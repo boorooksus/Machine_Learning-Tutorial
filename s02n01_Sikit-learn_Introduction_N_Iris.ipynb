{
 "cells": [
  {
   "cell_type": "markdown",
   "metadata": {},
   "source": [
    "### 머신러닝 용어 정리\n",
    "1. Feature: 속성. 보통 머신러닝에서 데이터 세트의 일반 속성을 말할 때 사용. 타겟값을 제외한 나머지 속성을 모두 피처로 지칭\n",
    "\n",
    "\n",
    "2. 레이블 = 클래스 = 타겟(값) = 결정(값): 정답 데이터. classification에서는 레이블 또는 클래스로 지칭\n",
    "\n"
   ]
  },
  {
   "cell_type": "markdown",
   "metadata": {},
   "source": [
    "## Sikit-learn 소개, Iris 품종 예측 App"
   ]
  },
  {
   "cell_type": "code",
   "execution_count": 3,
   "metadata": {},
   "outputs": [
    {
     "name": "stdout",
     "output_type": "stream",
     "text": [
      "0.22.1\n"
     ]
    }
   ],
   "source": [
    "import sklearn\n",
    "print(sklearn.__version__)"
   ]
  },
  {
   "cell_type": "code",
   "execution_count": null,
   "metadata": {},
   "outputs": [],
   "source": []
  }
 ],
 "metadata": {
  "kernelspec": {
   "display_name": "Python 3",
   "language": "python",
   "name": "python3"
  },
  "language_info": {
   "codemirror_mode": {
    "name": "ipython",
    "version": 3
   },
   "file_extension": ".py",
   "mimetype": "text/x-python",
   "name": "python",
   "nbconvert_exporter": "python",
   "pygments_lexer": "ipython3",
   "version": "3.7.6"
  }
 },
 "nbformat": 4,
 "nbformat_minor": 4
}
