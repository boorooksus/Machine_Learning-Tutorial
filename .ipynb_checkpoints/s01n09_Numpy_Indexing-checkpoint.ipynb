{
 "cells": [
  {
   "cell_type": "markdown",
   "metadata": {},
   "source": [
    "#### 특정 위치의 단일값 추출"
   ]
  },
  {
   "cell_type": "code",
   "execution_count": 2,
   "metadata": {},
   "outputs": [],
   "source": [
    "import numpy as np"
   ]
  },
  {
   "cell_type": "code",
   "execution_count": 3,
   "metadata": {},
   "outputs": [
    {
     "name": "stdout",
     "output_type": "stream",
     "text": [
      "arr1:  [1 2 3 4 5 6 7 8 9]\n",
      "value:  3\n",
      "<class 'numpy.int32'>\n"
     ]
    }
   ],
   "source": [
    "arr1 = np.arange(start = 1, stop=10)\n",
    "print(\"arr1: \", arr1)\n",
    "\n",
    "value = arr1[2]\n",
    "print('value: ', value)\n",
    "print(type(value))"
   ]
  },
  {
   "cell_type": "code",
   "execution_count": 5,
   "metadata": {},
   "outputs": [
    {
     "name": "stdout",
     "output_type": "stream",
     "text": [
      "end value:  9 맨 뒤에서 두 번째 값:  8\n"
     ]
    }
   ],
   "source": [
    "print('end value: ', arr1[-1], '맨 뒤에서 두 번째 값: ', arr1[-2])"
   ]
  },
  {
   "cell_type": "code",
   "execution_count": 6,
   "metadata": {},
   "outputs": [
    {
     "name": "stdout",
     "output_type": "stream",
     "text": [
      "arr1:  [9 2 3 4 5 6 7 8 9]\n"
     ]
    }
   ],
   "source": [
    "arr1[0] = 9\n",
    "print('arr1: ', arr1)"
   ]
  },
  {
   "cell_type": "code",
   "execution_count": 8,
   "metadata": {},
   "outputs": [
    {
     "name": "stdout",
     "output_type": "stream",
     "text": [
      "[[1 2 3]\n",
      " [4 5 6]\n",
      " [7 8 9]]\n",
      "(0, 0):  1\n",
      "(0, 1):  2\n",
      "(2, 2):  9\n"
     ]
    }
   ],
   "source": [
    "arr1d = np.arange(start=1, stop=10)\n",
    "arr2d = arr1d.reshape(3,3)\n",
    "print(arr2d)\n",
    "\n",
    "print('(0, 0): ', arr2d[0,0])\n",
    "print('(0, 1): ', arr2d[0, 1])\n",
    "print('(2, 2): ', arr2d[2,2])"
   ]
  },
  {
   "cell_type": "markdown",
   "metadata": {},
   "source": [
    "#### 슬라이싱"
   ]
  },
  {
   "cell_type": "code",
   "execution_count": 9,
   "metadata": {},
   "outputs": [
    {
     "name": "stdout",
     "output_type": "stream",
     "text": [
      "[9 2 3 4 5 6 7 8 9]\n",
      "[9 2 3]\n",
      "<class 'numpy.ndarray'>\n"
     ]
    }
   ],
   "source": [
    "print(arr1)\n",
    "arr3 = arr1[0:3]\n",
    "print(arr3)\n",
    "print(type(arr3))"
   ]
  },
  {
   "cell_type": "code",
   "execution_count": 13,
   "metadata": {},
   "outputs": [
    {
     "name": "stdout",
     "output_type": "stream",
     "text": [
      "[[1 2 3]\n",
      " [4 5 6]\n",
      " [7 8 9]]\n",
      "\n",
      "=======[0:2, 0:2]: \n",
      " [[1 2]\n",
      " [4 5]]\n",
      "\n",
      "=======[1:3, 0:3]: \n",
      " [[4 5 6]\n",
      " [7 8 9]]\n",
      "\n",
      "=======[1:3, :]: \n",
      " [[4 5 6]\n",
      " [7 8 9]]\n",
      "\n",
      "=======[:2, 0]: \n",
      " [1 4]\n"
     ]
    }
   ],
   "source": [
    "print(arr2d)\n",
    "print()\n",
    "\n",
    "print('=======[0:2, 0:2]: \\n', arr2d[0:2, 0:2])\n",
    "print()\n",
    "print('=======[1:3, 0:3]: \\n', arr2d[1:3, 0:3])\n",
    "print()\n",
    "print('=======[1:3, :]: \\n', arr2d[1:3, :])\n",
    "print()\n",
    "print('=======[:2, 0]: \\n', arr2d[:2, 0])"
   ]
  },
  {
   "cell_type": "markdown",
   "metadata": {},
   "source": [
    "#### 팬시 인덱싱"
   ]
  },
  {
   "cell_type": "code",
   "execution_count": 18,
   "metadata": {},
   "outputs": [
    {
     "name": "stdout",
     "output_type": "stream",
     "text": [
      "[[1 2 3]\n",
      " [4 5 6]\n",
      " [7 8 9]]\n",
      "\n",
      "[[0, 1], 2] =>  [3, 6]\n",
      "\n",
      "[[0, 2], 0:2] =>  [[1, 2], [7, 8]]\n",
      "\n",
      "[[0, 1]] =>  [[1, 2, 3], [4, 5, 6]]\n"
     ]
    }
   ],
   "source": [
    "print(arr2d)\n",
    "print()\n",
    "\n",
    "arr3 = arr2d[[0, 1], 2]\n",
    "print('[[0, 1], 2] => ', arr3.tolist())\n",
    "print()\n",
    "\n",
    "arr4 = arr2d[[0, 2], 0:2]\n",
    "print('[[0, 2], 0:2] => ', arr4.tolist())\n",
    "print()\n",
    "\n",
    "arr5 = arr2d[[0, 1]]\n",
    "print('[[0, 1]] => ', arr5.tolist())"
   ]
  },
  {
   "cell_type": "markdown",
   "metadata": {},
   "source": [
    "#### 불린 인덱싱"
   ]
  },
  {
   "cell_type": "code",
   "execution_count": 21,
   "metadata": {},
   "outputs": [
    {
     "name": "stdout",
     "output_type": "stream",
     "text": [
      "[1 2 3 4 5 6 7 8 9]\n",
      "\n",
      "[False False False False False  True  True  True  True]\n",
      "\n",
      "var1:  [False False False False False  True  True  True  True]\n",
      "<class 'numpy.ndarray'>\n"
     ]
    }
   ],
   "source": [
    "print(arr1d)\n",
    "print()\n",
    "\n",
    "print(arr1d > 5)\n",
    "print()\n",
    "\n",
    "var1 = arr1d > 5\n",
    "print(\"var1: \", var1)\n",
    "print(type(var1))"
   ]
  },
  {
   "cell_type": "code",
   "execution_count": 23,
   "metadata": {},
   "outputs": [
    {
     "name": "stdout",
     "output_type": "stream",
     "text": [
      "[1 2 3 4 5 6 7 8 9]\n",
      "\n",
      "arr3:  [6 7 8 9]\n"
     ]
    }
   ],
   "source": [
    "print(arr1d)\n",
    "print()\n",
    "\n",
    "arr3 = arr1d[arr1d > 5]\n",
    "print('arr3: ', arr3)"
   ]
  },
  {
   "cell_type": "code",
   "execution_count": 24,
   "metadata": {},
   "outputs": [
    {
     "name": "stdout",
     "output_type": "stream",
     "text": [
      "[1 2 3 4 5 6 7 8 9]\n",
      "\n",
      "arr3:  [6 7 8 9]\n"
     ]
    }
   ],
   "source": [
    "print(arr1d)\n",
    "print()\n",
    "\n",
    "boolean_indexes = np.array([False, False, False, False, False, True, True, True, True])\n",
    "arr3 = arr1d[boolean_indexes]\n",
    "print('arr3: ', arr3)"
   ]
  },
  {
   "cell_type": "code",
   "execution_count": 26,
   "metadata": {},
   "outputs": [
    {
     "name": "stdout",
     "output_type": "stream",
     "text": [
      "arr4:  [1 3 5 7]\n"
     ]
    }
   ],
   "source": [
    "indexes = np.array([0, 2, 4, 6])\n",
    "arr4 = arr1d[indexes]\n",
    "print('arr4: ', arr4)"
   ]
  },
  {
   "cell_type": "code",
   "execution_count": 27,
   "metadata": {},
   "outputs": [
    {
     "name": "stdout",
     "output_type": "stream",
     "text": [
      "[1 6 7 8 9]\n"
     ]
    }
   ],
   "source": [
    "print(arr1d[arr1 > 5])"
   ]
  },
  {
   "cell_type": "code",
   "execution_count": null,
   "metadata": {},
   "outputs": [],
   "source": []
  }
 ],
 "metadata": {
  "kernelspec": {
   "display_name": "Python 3",
   "language": "python",
   "name": "python3"
  },
  "language_info": {
   "codemirror_mode": {
    "name": "ipython",
    "version": 3
   },
   "file_extension": ".py",
   "mimetype": "text/x-python",
   "name": "python",
   "nbconvert_exporter": "python",
   "pygments_lexer": "ipython3",
   "version": "3.7.6"
  }
 },
 "nbformat": 4,
 "nbformat_minor": 4
}
