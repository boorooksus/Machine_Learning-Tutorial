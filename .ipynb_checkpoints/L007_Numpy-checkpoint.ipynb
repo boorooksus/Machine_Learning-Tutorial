{
 "cells": [
  {
   "cell_type": "code",
   "execution_count": 2,
   "metadata": {},
   "outputs": [],
   "source": [
    "import numpy as np"
   ]
  },
  {
   "cell_type": "code",
   "execution_count": 4,
   "metadata": {},
   "outputs": [
    {
     "name": "stdout",
     "output_type": "stream",
     "text": [
      "li1:  [1, 2, 3]\n",
      "li1 type:  <class 'list'>\n",
      "arr1:  [1 2 3]\n",
      "arr1 type:  <class 'numpy.ndarray'>\n"
     ]
    }
   ],
   "source": [
    "li1 = [1, 2, 3]\n",
    "print('li1: ', li1)\n",
    "print('li1 type: ', type(li1))\n",
    "\n",
    "arr1 = np.array(li1)\n",
    "print(\"arr1: \", arr1)\n",
    "print('arr1 type: ', type(arr1))"
   ]
  },
  {
   "cell_type": "code",
   "execution_count": 18,
   "metadata": {},
   "outputs": [
    {
     "name": "stdout",
     "output_type": "stream",
     "text": [
      "arr1 type:  <class 'numpy.ndarray'>\n",
      "arr1 arr형태:  (3,)\n",
      "arr2 type:  <class 'numpy.ndarray'>\n",
      "arr2 arr형태:  (2, 3)\n",
      "arr3 type:  <class 'numpy.ndarray'>\n",
      "arr3 arr형태:  (1, 3)\n"
     ]
    }
   ],
   "source": [
    "arr1 = np.array([1,2,3])\n",
    "print('arr1 type: ', type(arr1))\n",
    "print('arr1 arr형태: ', arr1.shape)\n",
    "\n",
    "arr2 = np.array([[1,2,3], [2,3,4]])\n",
    "print('arr2 type: ', type(arr2))\n",
    "print('arr2 arr형태: ', arr2.shape)\n",
    "\n",
    "# arr1과 다름 주의(대괄호로 한 겹 더 묶여있음)\n",
    "arr3 = np.array([[1,2,3]])\n",
    "print('arr3 type: ', type(arr3))\n",
    "print('arr3 arr형태: ', arr3.shape)"
   ]
  },
  {
   "cell_type": "markdown",
   "metadata": {},
   "source": [
    "- ndim"
   ]
  },
  {
   "cell_type": "code",
   "execution_count": 17,
   "metadata": {},
   "outputs": [
    {
     "name": "stdout",
     "output_type": "stream",
     "text": [
      "arr1: 1차원, arr2: 2차원, arr3: 2차원\n"
     ]
    }
   ],
   "source": [
    "print('arr1: {0}차원, arr2: {1}차원, arr3: {2}차원'.format(arr1.ndim, arr2.ndim, arr3.ndim))"
   ]
  },
  {
   "cell_type": "markdown",
   "metadata": {},
   "source": [
    "- dtype()"
   ]
  },
  {
   "cell_type": "code",
   "execution_count": 21,
   "metadata": {},
   "outputs": [
    {
     "name": "stdout",
     "output_type": "stream",
     "text": [
      "<class 'list'>\n",
      "<class 'numpy.ndarray'>\n",
      "[1 2 3] int32\n"
     ]
    }
   ],
   "source": [
    "li = [1,2, 3]\n",
    "print(type(li))\n",
    "arr1 = np.array(li1)\n",
    "\n",
    "print(type(arr1))\n",
    "print(arr1, arr1.dtype)"
   ]
  },
  {
   "cell_type": "markdown",
   "metadata": {},
   "source": [
    "#### 자료형이 섞인 리스트를 ndarray로 변환할 경우 크기가 더 큰 datatype으로 통일"
   ]
  },
  {
   "cell_type": "code",
   "execution_count": 20,
   "metadata": {},
   "outputs": [
    {
     "name": "stdout",
     "output_type": "stream",
     "text": [
      "['1' '2' 'test'] <U11\n",
      "[1. 2. 3.] float64\n"
     ]
    }
   ],
   "source": [
    "li2 = [1, 2, 'test']\n",
    "arr2 = np.array(li2)\n",
    "print(arr2, arr2.dtype)\n",
    "\n",
    "li3 = [1, 2, 3.0]\n",
    "arr3 = np.array(li3)\n",
    "print(arr3, arr3.dtype)"
   ]
  },
  {
   "cell_type": "markdown",
   "metadata": {},
   "source": [
    "#### astype() : data type 변환"
   ]
  },
  {
   "cell_type": "code",
   "execution_count": 22,
   "metadata": {},
   "outputs": [
    {
     "name": "stdout",
     "output_type": "stream",
     "text": [
      "[1 2 3 3] int32\n"
     ]
    }
   ],
   "source": [
    "arr = np.array([1.0, 2.1, 3,3])\n",
    "arr = arr.astype('int32')\n",
    "print(arr, arr.dtype)"
   ]
  },
  {
   "cell_type": "markdown",
   "metadata": {},
   "source": [
    "#### axis - 0: 행 방향, 1: 열 방향"
   ]
  },
  {
   "cell_type": "code",
   "execution_count": 23,
   "metadata": {},
   "outputs": [
    {
     "name": "stdout",
     "output_type": "stream",
     "text": [
      "전체 합:  21\n",
      "sum of axis0:  [5 7 9]\n",
      "sum of axis1:  [ 6 15]\n"
     ]
    }
   ],
   "source": [
    "arr = np.array([[1,2,3], [4,5,6]])\n",
    "print('전체 합: ', arr.sum())\n",
    "print('sum of axis0: ', arr.sum(axis=0))\n",
    "print('sum of axis1: ', arr.sum(axis=1))"
   ]
  },
  {
   "cell_type": "code",
   "execution_count": null,
   "metadata": {},
   "outputs": [],
   "source": []
  }
 ],
 "metadata": {
  "kernelspec": {
   "display_name": "Python 3",
   "language": "python",
   "name": "python3"
  },
  "language_info": {
   "codemirror_mode": {
    "name": "ipython",
    "version": 3
   },
   "file_extension": ".py",
   "mimetype": "text/x-python",
   "name": "python",
   "nbconvert_exporter": "python",
   "pygments_lexer": "ipython3",
   "version": "3.7.6"
  }
 },
 "nbformat": 4,
 "nbformat_minor": 4
}
