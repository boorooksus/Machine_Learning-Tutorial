{
 "cells": [
  {
   "cell_type": "code",
   "execution_count": 16,
   "metadata": {
    "scrolled": true
   },
   "outputs": [],
   "source": [
    "import numpy as np"
   ]
  },
  {
   "cell_type": "markdown",
   "metadata": {},
   "source": [
    "#### zeros, ones"
   ]
  },
  {
   "cell_type": "code",
   "execution_count": 17,
   "metadata": {},
   "outputs": [
    {
     "name": "stdout",
     "output_type": "stream",
     "text": [
      "[[0 0]\n",
      " [0 0]\n",
      " [0 0]]\n",
      "int32 (3, 2)\n",
      "[[1. 1.]\n",
      " [1. 1.]\n",
      " [1. 1.]]\n",
      "float64 (3, 2)\n"
     ]
    }
   ],
   "source": [
    "zero_arr = np.zeros((3,2),dtype='int32')\n",
    "print(zero_arr)\n",
    "print(zero_arr.dtype, zero_arr.shape)\n",
    "\n",
    "one_arr = np.ones((3,2))\n",
    "print(one_arr)\n",
    "print(one_arr.dtype, one_arr.shape)"
   ]
  },
  {
   "cell_type": "markdown",
   "metadata": {},
   "source": [
    "#### reshape"
   ]
  },
  {
   "cell_type": "code",
   "execution_count": 15,
   "metadata": {},
   "outputs": [
    {
     "name": "stdout",
     "output_type": "stream",
     "text": [
      "arr1: \n",
      " [0 1 2 3 4 5 6 7 8 9]\n",
      "arr2: \n",
      " [[0 1 2 3 4]\n",
      " [5 6 7 8 9]]\n",
      "arr3: \n",
      " [[0 1]\n",
      " [2 3]\n",
      " [4 5]\n",
      " [6 7]\n",
      " [8 9]]\n"
     ]
    }
   ],
   "source": [
    "arr1 = np.arange(10)\n",
    "print('arr1: \\n', arr1)\n",
    "\n",
    "arr2 = arr1.reshape(2, 5)\n",
    "print('arr2: \\n', arr2)\n",
    "\n",
    "arr3 = arr2.reshape(5, 2)\n",
    "print('arr3: \\n', arr3)"
   ]
  },
  {
   "cell_type": "markdown",
   "metadata": {},
   "source": [
    "#### reshape: -1을 인자로 줬을 때 가변적으로 변환"
   ]
  },
  {
   "cell_type": "code",
   "execution_count": 19,
   "metadata": {},
   "outputs": [
    {
     "name": "stdout",
     "output_type": "stream",
     "text": [
      "[0 1 2 3 4 5 6 7 8 9]\n",
      "arr2 shape: (2, 5)\n",
      "arr2:\n",
      " [[0 1 2 3 4]\n",
      " [5 6 7 8 9]]\n",
      "arr3 shape:  (5, 2)\n",
      "arr3:\n",
      " [[0 1]\n",
      " [2 3]\n",
      " [4 5]\n",
      " [6 7]\n",
      " [8 9]]\n"
     ]
    }
   ],
   "source": [
    "arr1 = np.arange(10)\n",
    "print(arr1)\n",
    "\n",
    "arr2 = arr1.reshape(-1, 5)\n",
    "print('arr2 shape:', arr2.shape)\n",
    "print('arr2:\\n', arr2)\n",
    "\n",
    "arr3 = arr1.reshape(5, -1)\n",
    "print('arr3 shape: ', arr3.shape)\n",
    "print('arr3:\\n', arr3)"
   ]
  },
  {
   "cell_type": "markdown",
   "metadata": {},
   "source": [
    "#### reshape: 인자 하나를 비웠을 때 차이"
   ]
  },
  {
   "cell_type": "code",
   "execution_count": 21,
   "metadata": {},
   "outputs": [
    {
     "name": "stdout",
     "output_type": "stream",
     "text": [
      "arr2d_1 shape:  (5, 1)\n",
      "arr2d_1:\n",
      " [[0]\n",
      " [1]\n",
      " [2]\n",
      " [3]\n",
      " [4]]\n",
      "arr1d shape:  (5,)\n",
      "arr1d: \n",
      " [0 1 2 3 4]\n"
     ]
    }
   ],
   "source": [
    "arr1 = np.arange(5)\n",
    "\n",
    "# 1차원 ndarray를 2차원으로 변환하되, 컬럼axis크기는 1이됨\n",
    "arr2d_1 = arr1.reshape(-1, 1)\n",
    "print(\"arr2d_1 shape: \", arr2d_1.shape)\n",
    "print(\"arr2d_1:\\n\", arr2d_1)\n",
    "\n",
    "# 2d ndarray를 1차원으로 변환\n",
    "arr1d = arr2d_1.reshape(-1, )\n",
    "print(\"arr1d shape: \", arr1d.shape)\n",
    "print(\"arr1d: \\n\", arr1d)"
   ]
  },
  {
   "cell_type": "markdown",
   "metadata": {},
   "source": [
    "#### reshape의 인자값으로 -1은 두개 이상 사용 불가능"
   ]
  },
  {
   "cell_type": "code",
   "execution_count": null,
   "metadata": {},
   "outputs": [],
   "source": []
  }
 ],
 "metadata": {
  "kernelspec": {
   "display_name": "Python 3",
   "language": "python",
   "name": "python3"
  },
  "language_info": {
   "codemirror_mode": {
    "name": "ipython",
    "version": 3
   },
   "file_extension": ".py",
   "mimetype": "text/x-python",
   "name": "python",
   "nbconvert_exporter": "python",
   "pygments_lexer": "ipython3",
   "version": "3.7.6"
  }
 },
 "nbformat": 4,
 "nbformat_minor": 4
}
